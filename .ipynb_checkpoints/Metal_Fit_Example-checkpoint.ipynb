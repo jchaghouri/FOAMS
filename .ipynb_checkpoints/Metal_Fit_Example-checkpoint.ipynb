{
 "cells": [
  {
   "cell_type": "code",
   "execution_count": 1,
   "metadata": {},
   "outputs": [],
   "source": [
    "import numpy as np\n",
    "import dill\n",
    "import os\n",
    "from matplotlib import pyplot as plt\n",
    "import shelve\n",
    "\n",
    "import make_metal_fits as mmf"
   ]
  },
  {
   "cell_type": "code",
   "execution_count": 2,
   "metadata": {},
   "outputs": [
    {
     "name": "stdout",
     "output_type": "stream",
     "text": [
      "[0.   0.   0.02 0.05 0.03 0.04 0.04 0.12 0.07 0.06 0.1  0.04 0.06 0.07\n",
      " 0.01 0.05 0.02 0.06 0.1  0.04 0.02 0.02 0.03 0.03 0.02 0.01 0.08 0.08\n",
      " 0.04 0.04 0.04 0.02 0.06 0.04 0.03 0.06 0.08 0.03 0.03 0.04 0.04 0.07\n",
      " 0.06 0.   0.03 0.13 0.04 0.02 0.03 0.03 0.06 0.06 0.03 0.08 0.08 0.02\n",
      " 0.07 0.02 0.06 0.05 0.02 0.   0.02 0.04 0.06 0.03 0.06 0.03 0.06 0.03\n",
      " 0.02 0.02 0.02 0.04 0.04 0.04 0.03 0.06 0.03 0.04 0.08 0.03 0.03 0.04\n",
      " 0.   0.   0.   0.   0.   0.   0.03 0.   0.03 0.   0.   0.   0.   0.\n",
      " 0.   0.   0.   0.   0.   0.   0.   0.   0.   0.   0.   0.   0.   0.\n",
      " 0.   0.   0.   0.   0.   0.   0.   0.  ]\n",
      "done\n",
      "[[[2.98656126e-19 1.04964601e-02 1.73212125e-02 1.01923250e-02]\n",
      "  [1.43044473e-20 9.95014162e-03 1.62268795e-02 9.75766103e-03]\n",
      "  [2.47915174e-20 9.78001884e-03 1.58892513e-02 9.62125412e-03]\n",
      "  [1.46418802e-18 9.64909141e-03 1.56475764e-02 9.51685370e-03]\n",
      "  [1.36775603e-18 9.51583311e-03 1.53534322e-02 9.41232321e-03]]\n",
      "\n",
      " [[1.07873652e-24 1.05641068e-02 1.78259417e-02 1.04554100e-02]\n",
      "  [1.14547471e-23 1.00283673e-02 1.67422665e-02 1.00262328e-02]\n",
      "  [1.66761977e-23 9.86182878e-03 1.64082780e-02 9.89181582e-03]\n",
      "  [3.02187263e-23 9.73316966e-03 1.61686800e-02 9.78873999e-03]\n",
      "  [5.92173427e-25 9.60352847e-03 1.58768727e-02 9.68623530e-03]]\n",
      "\n",
      " [[3.06079199e-19 9.30222377e-03 1.62647233e-02 9.15049639e-03]\n",
      "  [1.36150607e-19 8.78936256e-03 1.51946318e-02 8.74399500e-03]\n",
      "  [1.08252978e-19 8.63013583e-03 1.48655110e-02 8.61675407e-03]\n",
      "  [4.83180556e-18 8.50555367e-03 1.46275451e-02 8.51785517e-03]\n",
      "  [8.10105375e-20 8.39095901e-03 1.43551638e-02 8.42844382e-03]]\n",
      "\n",
      " [[3.35918935e-23 9.33591675e-03 1.67046166e-02 9.39928519e-03]\n",
      "  [2.79503074e-23 8.83092804e-03 1.56434182e-02 8.99531627e-03]\n",
      "  [2.55168104e-23 8.67433771e-03 1.53172234e-02 8.86905099e-03]\n",
      "  [2.34620107e-23 8.55150768e-03 1.50808854e-02 8.77082485e-03]\n",
      "  [1.98442410e-22 8.43940116e-03 1.48100725e-02 8.68235628e-03]]\n",
      "\n",
      " [[5.59130173e-24 8.88859691e-03 1.76020851e-02 9.17467573e-03]\n",
      "  [3.97702214e-24 8.42320709e-03 1.65101502e-02 8.79565916e-03]\n",
      "  [2.42640322e-24 8.27948917e-03 1.61769022e-02 8.67780618e-03]\n",
      "  [3.06292266e-24 8.16318836e-03 1.59406665e-02 8.58658641e-03]\n",
      "  [7.20548982e-24 8.08048919e-03 1.57003497e-02 8.52015227e-03]]\n",
      "\n",
      " [[6.03142954e-17 1.08242013e-02 1.91432977e-02 1.28518838e-02]\n",
      "  [6.89319621e-17 1.03929015e-02 1.81337652e-02 1.24136319e-02]\n",
      "  [7.04836441e-17 1.02591448e-02 1.78226030e-02 1.22768287e-02]\n",
      "  [7.68882617e-17 1.01732410e-02 1.76409599e-02 1.21918018e-02]\n",
      "  [7.04537060e-17 1.00480935e-02 1.73176729e-02 1.20619627e-02]]]\n"
     ]
    }
   ],
   "source": [
    "#dill.load_session('imf_data_default.db')\n",
    "\n",
    "\n",
    "\n",
    "\n",
    "\n",
    "\n",
    "\n",
    "\n",
    "#def is_picklable(obj):\n",
    " #   try:\n",
    "  ##      pickle.dumps(obj)\n",
    "  #  except Exception:\n",
    "   #     return False\n",
    "   # return True\n",
    "\n",
    "\n",
    "\n",
    "\n",
    "#def abundance_func(x,a,b):\n",
    "    \n",
    " #   sum_model = a*(CC_model + wind_model + b*Ia_model)\n",
    "\n",
    " #   return np.log10(sum_model[x.astype(int)])\n",
    "    \n",
    "    \n",
    "    \n",
    "    \n",
    "    \n",
    "    \n",
    "\n",
    "    \n",
    "    \n",
    "elements_to_use = np.array([8,10,12,14,16,18,20,24,25,26,28])    \n",
    "    \n",
    "    \n",
    "def load_solar_abundances():\n",
    "    solar_elements_log = np.zeros(120)-20.\n",
    "    solar_elements_log_error = np.zeros(120)\n",
    "\n",
    "    solar_elements = np.zeros(120)-20.\n",
    "    solar_elements_error = np.zeros(120)\n",
    "\n",
    "    # Asplund 2009 solar abundances\n",
    "    #solar_data = np.loadtxt(\"solar_abundances_asplund_2009.txt\",usecols=(0,2,3,4,5,6,8,9,10,11))\n",
    "    #\n",
    "    #solar_elements_log[np.int_(solar_data[:,0])] = np.where(solar_data[:,1] == -19,solar_data[:,3],solar_data[:,1])\n",
    "    #solar_elements_log_error[np.int_(solar_data[:,0])] = np.where(solar_data[:,1] == -19,solar_data[:,4],solar_data[:,2])\n",
    "    #\n",
    "    #solar_elements_log[np.int_(solar_data[:,5])] = np.where(solar_data[:,6] == -19,solar_data[:,8],solar_data[:,6])\n",
    "    #solar_elements_log_error[np.int_(solar_data[:,5])] = np.where(solar_data[:,6] == -19,solar_data[:,9],solar_data[:,7])\n",
    "\n",
    "    \n",
    "    # Lodders 2009 solar data:    (Lodders, K., Palme, H., Gail, H.-P., 2009, Landolt-Börnstein, New Series, Astronomy and Astrophysics, Springer Verlag, Berlin, 2009)\n",
    "\n",
    "    # need to rewrite this for Lodders - Brian, 6/3/2020\n",
    "    \n",
    "    solar_data = np.loadtxt(\"solar_abundances_lodders_2009.txt\",skiprows=2,usecols=(0,5,6))\n",
    "\n",
    "    solar_elements_log[np.int_(solar_data[:,0])] = solar_data[:,1]\n",
    "    solar_elements_log_error[np.int_(solar_data[:,0])] = solar_data[:,2]\n",
    "\n",
    "    print(solar_elements_log_error)\n",
    "    \n",
    "    atomic_data = np.loadtxt(\"atomic_masses.txt\",usecols=(0,3))\n",
    "\n",
    "    atomic_mass = np.zeros(120)\n",
    "    atomic_mass[np.int_(atomic_data[:,0])] = atomic_data[:,1]\n",
    "    atomic_mass[0]=1.\n",
    "\n",
    "\n",
    "    solar_elements = 10.**solar_elements_log\n",
    "    total_mass_solar = (np.sum(solar_elements*atomic_mass))\n",
    "\n",
    "    #print(total_mass_solar)\n",
    "    #print(np.sum(solar_elements*atomic_mass)/total_mass_solar)\n",
    "    \n",
    "    # Need to mulitply by atomic mass here to get the total mass of each element. - Brian, 6/3/2020\n",
    "    \n",
    "    solar_elements_normalized_log = np.log10(solar_elements*atomic_mass) - np.log10(total_mass_solar)\n",
    "\n",
    "    \n",
    "    # Also need to update the error range?\n",
    "    \n",
    "    #solar_elements_error = 10.**solar_elements_log_error\n",
    "    #\n",
    "    #solar_elements_normalized_log_error = np.log10(solar_elements_error*atomic_mass) #- np.log10(total_mass_solar)\n",
    "\n",
    "    solar_elements_normalized_log_error = solar_elements_log_error\n",
    "    \n",
    "    return solar_elements_normalized_log,solar_elements_normalized_log_error\n",
    "# Run this commad to load the solar data:\n",
    "\n",
    "solar_elements_log,solar_elements_log_error = load_solar_abundances()\n",
    "\n",
    "\n",
    "\n",
    "\n",
    "\n",
    "\n",
    "\n",
    "perseusRGS_Fe_ratio_abundance = np.array([1.13, .99, .91])\n",
    "perseusSXS_Fe_ratio_abundance = np.array([.82, .89, .84, .93, .86, .97, .96]) \n",
    "perseusRGS_Fe_ratio_error = np.array([.26,.30,.22])\n",
    "perseusSXS_Fe_ratio_error = np.array([.11,.09,.08,.09,.12,.20,.09])\n",
    "perseus_Fe_abundance = 0.81\n",
    "perseus_Fe_error = 0.01\n",
    "\n",
    "perseus_abundance = np.zeros(11)\n",
    "perseus_abundance[0:3] = perseusRGS_Fe_ratio_abundance\n",
    "perseus_abundance[3:9] = perseusSXS_Fe_ratio_abundance[0:6]\n",
    "perseus_abundance[10] = perseusSXS_Fe_ratio_abundance[6]\n",
    "perseus_abundance = perseus_abundance + perseus_Fe_abundance\n",
    "perseus_abundance[9] = perseus_Fe_abundance\n",
    "\n",
    "perseus_error = np.zeros(11)\n",
    "perseus_error[0:3] = perseusRGS_Fe_ratio_error\n",
    "perseus_error[3:9] = perseusSXS_Fe_ratio_error[0:6]\n",
    "perseus_error[10] = perseusSXS_Fe_ratio_error[6]\n",
    "perseus_error[9] = perseus_Fe_error\n",
    "\n",
    "\n",
    "# From notebook 3\n",
    "\n",
    "perseus_abundance = np.zeros(11)\n",
    "perseus_abundance[0:3] = perseusRGS_Fe_ratio_abundance\n",
    "perseus_abundance[3:9] = perseusSXS_Fe_ratio_abundance[0:6]\n",
    "perseus_abundance[10] = perseusSXS_Fe_ratio_abundance[6]\n",
    "\n",
    "#perseus_abundance = perseus_abundance + perseus_Fe_abundance\n",
    "#perseus_abundance[9] = perseus_Fe_abundance\n",
    "\n",
    "perseus_abundance[9] = 1.\n",
    "\n",
    "perseus_error = np.zeros(11)\n",
    "perseus_error[0:3] = perseusRGS_Fe_ratio_error\n",
    "perseus_error[3:9] = perseusSXS_Fe_ratio_error[0:6]\n",
    "perseus_error[10] = perseusSXS_Fe_ratio_error[6]\n",
    "perseus_error[9] = perseus_Fe_error\n",
    "\n",
    "perseus_elements = np.array([8,10,12,14,16,18,20,24,25,26,28])\n",
    "\n",
    "\n",
    "\n",
    "\n",
    "\n",
    "\n",
    "perseus_abundance_log = solar_elements_log[elements_to_use] + np.log10(perseus_abundance)\n",
    "perseus_abundance_log = perseus_abundance_log + np.log10(perseus_Fe_abundance)\n",
    "\n",
    "perseus_error_log = np.log10(1.+perseus_error)\n",
    "\n",
    "\n",
    "x_data_solar = elements_to_use\n",
    "\n",
    "y_data_solar = solar_elements_log[elements_to_use]\n",
    "\n",
    "y_error_solar = solar_elements_log_error[elements_to_use]\n",
    "\n",
    "\n",
    "\n",
    "\n",
    "\n",
    "y_Fe_error_solar_old = y_error_solar[9]\n",
    "y_error_solar[9] = 0.0001\n",
    "\n",
    "\n",
    "\n",
    "measured_abundances = perseus_abundance_log\n",
    "measured_error= perseus_error_log\n",
    "\n",
    "\n",
    "CC_models_to_use = np.array(['W18_SN_total_yield_elements','W18_SN_wind_total_yield_elements', 'N20_SN_total_yield_elements','N20_SN_wind_total_yield_elements','kobayashi_02_total_yield_elements', 'heger_2010'])\n",
    "Ia_models_to_use = np.array(['shen_total_yield_elements','iwamoto_total_yield_elements', 'wdd2_total_yield_elements', 'w7_total_yield_elements'])\n",
    "AGB_models_to_use = np.array(['karakas_a2_0200_total_yield_elements','karakas_a3_0080_total_yield_elements','karakas_a4_0040_total_yield_elements','karakas_a5_0001_total_yield_elements','no_agb'])  # the last one is for no AGB\n",
    "\n",
    "\n",
    "\n",
    "NPM= 16 #number plot models\n",
    "\n",
    "\n",
    "normalization,Ia_ratio,pcov_0,pcov_1= mmf.make_metal_fits(elements_to_use, measured_abundances,measured_error,CC_models_to_use, Ia_models_to_use, AGB_models_to_use)\n",
    "\n",
    "\n",
    "print(Ia_ratio)"
   ]
  },
  {
   "cell_type": "code",
   "execution_count": 3,
   "metadata": {},
   "outputs": [],
   "source": [
    "\n",
    "#dill.load_session('imf_data_default.db')\n",
    "    #dill.load_session('all_fit_data.db')\n",
    "\n",
    "#print('done')\n",
    "#print(locals())   \n"
   ]
  },
  {
   "cell_type": "code",
   "execution_count": 4,
   "metadata": {},
   "outputs": [
    {
     "name": "stdout",
     "output_type": "stream",
     "text": [
      "[1.13 0.99 0.91 0.82 0.89 0.84 0.93 0.86 0.97 1.   0.96]\n"
     ]
    }
   ],
   "source": [
    "print(perseus_abundance)\n"
   ]
  },
  {
   "cell_type": "code",
   "execution_count": 5,
   "metadata": {},
   "outputs": [
    {
     "name": "stdout",
     "output_type": "stream",
     "text": [
      "[-32.13603475  -0.13258714  -0.60369255  -8.0146127   -9.86120489\n",
      "  -8.29220905  -2.66645558  -3.12969892  -2.20193105  -6.41731765\n",
      "  -2.78113511  -4.48450012  -3.21033912  -4.24496801  -3.15755259\n",
      "  -5.19504082  -3.47007123  -5.33638175  -4.0345397   -5.43387687\n",
      "  -4.22310703  -7.41324805  -5.52569923  -6.43896302  -4.77006481\n",
      "  -4.8961619   -2.9290349   -5.46567472  -4.14739664  -6.06294653\n",
      "  -5.67058983  -7.19267737  -6.68515795  -7.9414277   -6.87862761\n",
      "  -7.67346622  -6.93279073  -7.82423222  -7.2934315   -7.98710416\n",
      "  -7.60594468  -8.74798911  -8.21403503 -30.14480867  -8.35141248\n",
      "  -9.02359616  -8.43909312  -8.88314212  -8.3552298   -9.2960172\n",
      "  -7.97162062  -9.02056578  -7.83018407  -8.46255772  -7.74777002\n",
      "  -8.91249212  -7.81826933  -8.8033153   -8.38953462  -9.21710002\n",
      "  -8.50694903 -29.97466674  -8.99878691  -9.42430546  -8.84944409\n",
      "  -9.59484143  -8.78518138  -9.42873403  -8.96264265  -9.76831717\n",
      "  -8.95788824  -9.7830786   -9.15442086 -10.0184812   -9.20157111\n",
      "  -9.58603874  -8.48682423  -8.49223617  -8.20579974  -9.02164238\n",
      "  -8.64372547  -9.0356176   -7.75964499  -9.14592919 -29.81588846\n",
      " -29.81381545 -29.78968177 -29.78772988 -29.7818775  -29.7799557\n",
      "  -9.69047544 -29.77235528 -10.27940487 -29.76119808 -29.74864492\n",
      " -29.75042847 -29.74333779 -29.74333779 -29.73636102 -29.7346342\n",
      " -29.72610162 -29.72441504 -29.72273498 -29.71115311 -29.70952348\n",
      " -29.70789995 -29.70628247 -29.70467098 -29.70628247 -29.69198995\n",
      " -29.68732843 -29.68578564 -29.68118989 -29.67966871 -29.6751369\n",
      " -29.67363675 -29.66916713 -29.66768742 -29.66768742 -29.66768742]\n"
     ]
    }
   ],
   "source": [
    "print(solar_elements_log)"
   ]
  },
  {
   "cell_type": "code",
   "execution_count": 6,
   "metadata": {},
   "outputs": [
    {
     "data": {
      "image/png": "[encoded data removed]",
      "text/plain": [
       "<Figure size 432x288 with 1 Axes>"
      ]
     },
     "metadata": {
      "needs_background": "light"
     },
     "output_type": "display_data"
    }
   ],
   "source": [
    "plt.plot(np.reshape(Ia_ratio[2:,0,:],(NPM)),'ro') #Karakas0200 red\n",
    "plt.plot(np.reshape(Ia_ratio[2:,1,:],(NPM)),'bo') #Karakas0200 red\n",
    "plt.plot(np.reshape(Ia_ratio[2:,2,:],(NPM)),'go') #Karakas0200 red\n",
    "plt.plot(np.reshape(Ia_ratio[2:,3,:],(NPM)),'mo') #Karakas0200 red\n",
    "\n",
    "\n",
    "\n",
    "#plt.yscale('log')\n",
    "plt.show()\n"
   ]
  },
  {
   "cell_type": "code",
   "execution_count": 7,
   "metadata": {},
   "outputs": [
    {
     "name": "stdout",
     "output_type": "stream",
     "text": [
      "measured abundances = [-2.20193105 -2.78113511 -3.21033912 -3.15755259 -3.47007123 -4.0345397\n",
      " -4.22310703 -4.77006481 -4.8961619  -2.9290349  -4.14739664]\n",
      "measured error = [0.07 0.1  0.06 0.01 0.02 0.1  0.02 0.02 0.01 0.08 0.04]\n",
      "done\n"
     ]
    }
   ],
   "source": [
    "elements_to_use = np.array([8,10,12,14,16,18,20,24,25,26,28])    \n",
    "\n",
    "measured_abundances = solar_elements_log[elements_to_use]\n",
    "measured_error= solar_elements_log_error[elements_to_use]\n",
    "\n",
    "print('measured abundances =',measured_abundances)\n",
    "print('measured error =',measured_error)\n",
    "\n",
    "CC_models_to_use = np.array(['W18_SN_total_yield_elements','W18_SN_wind_total_yield_elements', 'N20_SN_total_yield_elements','N20_SN_wind_total_yield_elements','kobayashi_02_total_yield_elements', 'heger_2010'])\n",
    "Ia_models_to_use = np.array(['shen_total_yield_elements','iwamoto_total_yield_elements', 'wdd2_total_yield_elements', 'w7_total_yield_elements'])\n",
    "AGB_models_to_use = np.array(['karakas_a2_0200_total_yield_elements','karakas_a3_0080_total_yield_elements','karakas_a4_0040_total_yield_elements','karakas_a5_0001_total_yield_elements','no_agb'])  # the last one is for no AGB\n",
    "\n",
    "\n",
    "\n",
    "NPM= 16 #number plot models\n",
    "\n",
    "\n",
    "solar_normalization,solar_Ia_ratio,solar_pcov_0,solar_pcov_1= mmf.make_metal_fits(elements_to_use, measured_abundances,measured_error,CC_models_to_use, Ia_models_to_use, AGB_models_to_use)\n"
   ]
  },
  {
   "cell_type": "code",
   "execution_count": 8,
   "metadata": {},
   "outputs": [
    {
     "data": {
      "image/png": "[encoded data removed]",
      "text/plain": [
       "<Figure size 432x288 with 1 Axes>"
      ]
     },
     "metadata": {
      "needs_background": "light"
     },
     "output_type": "display_data"
    }
   ],
   "source": [
    "plt.plot(np.reshape(solar_Ia_ratio[2:,0,:],(NPM)),'ro') #Karakas0200 red\n",
    "plt.plot(np.reshape(solar_Ia_ratio[2:,1,:],(NPM)),'bo') #Karakas0200 red\n",
    "plt.plot(np.reshape(solar_Ia_ratio[2:,2,:],(NPM)),'go') #Karakas0200 red\n",
    "plt.plot(np.reshape(solar_Ia_ratio[2:,3,:],(NPM)),'mo') #Karakas0200 red\n",
    "\n",
    "plt.show()"
   ]
  },
  {
   "cell_type": "code",
   "execution_count": 9,
   "metadata": {},
   "outputs": [
    {
     "data": {
      "image/png": "[encoded data removed]",
      "text/plain": [
       "<Figure size 432x288 with 1 Axes>"
      ]
     },
     "metadata": {
      "needs_background": "light"
     },
     "output_type": "display_data"
    }
   ],
   "source": [
    "plt.plot(np.reshape(Ia_ratio[2:,0,:]/solar_Ia_ratio[2:,0,:],(NPM)),'ro') #Karakas0200 red\n",
    "#plt.plot(np.reshape(solar_Ia_ratio[2:,1,:],(NPM)),'bo') #Karakas0200 red\n",
    "#plt.plot(np.reshape(solar_Ia_ratio[2:,2,:],(NPM)),'go') #Karakas0200 red\n",
    "#plt.plot(np.reshape(solar_Ia_ratio[2:,3,:],(NPM)),'mo') #Karakas0200 red\n",
    "\n",
    "#plt.yscale('log')\n",
    "plt.ylim([.5,2])\n",
    "plt.show()"
   ]
  },
  {
   "cell_type": "code",
   "execution_count": 10,
   "metadata": {},
   "outputs": [
    {
     "data": {
      "image/png": "[encoded data removed]",
      "text/plain": [
       "<Figure size 432x288 with 1 Axes>"
      ]
     },
     "metadata": {
      "needs_background": "light"
     },
     "output_type": "display_data"
    },
    {
     "name": "stdout",
     "output_type": "stream",
     "text": [
      "['W18_SN_total_yield_elements' 'W18_SN_wind_total_yield_elements'\n",
      " 'N20_SN_total_yield_elements' 'N20_SN_wind_total_yield_elements'\n",
      " 'kobayashi_02_total_yield_elements' 'heger_2010']\n"
     ]
    }
   ],
   "source": [
    "plt.plot(np.reshape(solar_Ia_ratio[2:,0,:],(NPM)),'ro') #Karakas0200 red\n",
    "#plt.plot(np.reshape(solar_Ia_ratio[2:,1,:],(NPM)),'bo') #Karakas0080 blue\n",
    "#plt.plot(np.reshape(solar_Ia_ratio[2:,2,:],(NPM)),'go') #Karakas0040 green\n",
    "#plt.plot(np.reshape(solar_Ia_ratio[2:,3,:],(NPM)),'co') #Karakas0001 cyan \n",
    "plt.plot(np.reshape(solar_Ia_ratio[2:,4,:],(NPM)),'mo') #noAGB magenta\n",
    "#plt.yscale('log')\n",
    "plt.show()\n",
    "\n",
    "print(CC_models_to_use)\n"
   ]
  },
  {
   "cell_type": "code",
   "execution_count": 11,
   "metadata": {},
   "outputs": [
    {
     "data": {
      "image/png": "[encoded data removed]",
      "text/plain": [
       "<Figure size 432x288 with 1 Axes>"
      ]
     },
     "metadata": {
      "needs_background": "light"
     },
     "output_type": "display_data"
    },
    {
     "name": "stdout",
     "output_type": "stream",
     "text": [
      "['W18_SN_total_yield_elements' 'W18_SN_wind_total_yield_elements'\n",
      " 'N20_SN_total_yield_elements' 'N20_SN_wind_total_yield_elements'\n",
      " 'kobayashi_02_total_yield_elements' 'heger_2010']\n"
     ]
    }
   ],
   "source": [
    "plt.plot(np.reshape(Ia_ratio[2:,0,:],(NPM)),'ro') #Karakas0200 red\n",
    "#plt.plot(np.reshape(solar_Ia_ratio[2:,1,:],(NPM)),'bo') #Karakas0080 blue\n",
    "#plt.plot(np.reshape(solar_Ia_ratio[2:,2,:],(NPM)),'go') #Karakas0040 green\n",
    "#plt.plot(np.reshape(solar_Ia_ratio[2:,3,:],(NPM)),'co') #Karakas0001 cyan \n",
    "plt.plot(np.reshape(Ia_ratio[2:,4,:],(NPM)),'mo') #noAGB magenta\n",
    "#plt.yscale('log')\n",
    "plt.show()\n",
    "\n",
    "print(CC_models_to_use)\n"
   ]
  },
  {
   "cell_type": "code",
   "execution_count": null,
   "metadata": {},
   "outputs": [],
   "source": []
  }
 ],
 "metadata": {
  "kernelspec": {
   "display_name": "Python 3",
   "language": "python",
   "name": "python3"
  },
  "language_info": {
   "codemirror_mode": {
    "name": "ipython",
    "version": 3
   },
   "file_extension": ".py",
   "mimetype": "text/x-python",
   "name": "python",
   "nbconvert_exporter": "python",
   "pygments_lexer": "ipython3",
   "version": "3.8.5"
  }
 },
 "nbformat": 4,
 "nbformat_minor": 4
}
