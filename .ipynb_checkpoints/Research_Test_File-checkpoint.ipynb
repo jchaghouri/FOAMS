{
 "cells": [
  {
   "cell_type": "code",
   "execution_count": 31,
   "metadata": {},
   "outputs": [
    {
     "name": "stdout",
     "output_type": "stream",
     "text": [
      "done\n"
     ]
    }
   ],
   "source": [
    "import dill\n",
    "dill.load_session('all_fit_data.db')\n",
    "print('done')"
   ]
  },
  {
   "cell_type": "code",
   "execution_count": 32,
   "metadata": {},
   "outputs": [],
   "source": [
    "import numpy as np\n",
    "dir=\"\"\n",
    "import os\n",
    "from matplotlib import pyplot as plt\n",
    "%run \"./imf_procedures.py\"\n",
    "imf_index = -2.35\n",
    "n=1000\n",
    "m_min = 0.2\n",
    "m_max = 1000.\n",
    "m_cut = 100.\n",
    "index = imf_index\n",
    "from imf_procedures import make_imf_powerlaw\n",
    "mass, num_m, mass_limits = make_imf_powerlaw(n,m_min,m_max,m_cut,imf_index)\n"
   ]
  },
  {
   "cell_type": "code",
   "execution_count": 33,
   "metadata": {},
   "outputs": [
    {
     "data": {
      "image/png": "[encoded data removed]",
      "text/plain": [
       "<Figure size 432x288 with 1 Axes>"
      ]
     },
     "metadata": {
      "needs_background": "light"
     },
     "output_type": "display_data"
    },
    {
     "name": "stdout",
     "output_type": "stream",
     "text": [
      "['W18_SN' 'N20_SN' 'W18_SN+wind' 'N20_SN+wind' 'kobayashi_02' 'nomoto'\n",
      " 'heger_2010']\n",
      "['karakas_a2_0200' 'karakas_a3_0080' 'karakas_a4_0040' 'karakas_a5_0001'\n",
      " 'No_AGB']\n"
     ]
    }
   ],
   "source": [
    "#SOLAR IA RATIO PLOT\n",
    "\n",
    "plt.plot(np.reshape(solar_Ia_ratio[2:,0,:],(NPM)),'ro') #Karakas0200 red\n",
    "plt.plot(np.reshape(solar_Ia_ratio[2:,1,:],(NPM)),'bo') #Karakas0080 blue\n",
    "plt.plot(np.reshape(solar_Ia_ratio[2:,2,:],(NPM)),'go') #Karakas0040 green\n",
    "plt.plot(np.reshape(solar_Ia_ratio[2:,3,:],(NPM)),'co') #Karakas0001 cyan \n",
    "plt.plot(np.reshape(solar_Ia_ratio[2:,4,:],(NPM)),'mo') #noAGB magenta\n",
    "#plt.yscale('log')\n",
    "plt.show()\n",
    "print(all_CC_names)\n",
    "print(all_wind_names)"
   ]
  },
  {
   "cell_type": "code",
   "execution_count": 34,
   "metadata": {},
   "outputs": [
    {
     "name": "stdout",
     "output_type": "stream",
     "text": [
      "[2.06204085e-18 1.92961500e-01 2.75153330e-01 1.50202353e-01\n",
      " 1.01351874e-01]\n",
      "[1.93016502e-18 1.99413700e-01 2.88169591e-01 1.54707466e-01\n",
      " 1.03738008e-01]\n",
      "['shen' 'iwamoto' 'wdd2' 'w7' 'Seitenzhal+shen']\n"
     ]
    }
   ],
   "source": [
    "\n",
    "print((perseus_Ia_ratio[5,4,:])*Ia_num/cc_num) #noAGB magenta\n",
    "print((perseus_Ia_ratio[5,1,:])*Ia_num/cc_num) #noAGB magenta\n",
    "\n",
    "print(all_Ia_names)"
   ]
  },
  {
   "cell_type": "code",
   "execution_count": 35,
   "metadata": {},
   "outputs": [
    {
     "name": "stdout",
     "output_type": "stream",
     "text": [
      "nomoto\n",
      "['shen' 'iwamoto' 'wdd2' 'w7' 'Seitenzhal+shen']\n"
     ]
    }
   ],
   "source": [
    "print(all_CC_names[5])\n",
    "print(all_Ia_names)"
   ]
  },
  {
   "cell_type": "code",
   "execution_count": 36,
   "metadata": {},
   "outputs": [
    {
     "name": "stdout",
     "output_type": "stream",
     "text": [
      "[ 8 10 12 14 16 18 20 24 25 26]\n"
     ]
    }
   ],
   "source": [
    "print(x_data_perseus)"
   ]
  },
  {
   "cell_type": "code",
   "execution_count": null,
   "metadata": {},
   "outputs": [],
   "source": []
  }
 ],
 "metadata": {
  "kernelspec": {
   "display_name": "Python 3",
   "language": "python",
   "name": "python3"
  },
  "language_info": {
   "codemirror_mode": {
    "name": "ipython",
    "version": 3
   },
   "file_extension": ".py",
   "mimetype": "text/x-python",
   "name": "python",
   "nbconvert_exporter": "python",
   "pygments_lexer": "ipython3",
   "version": "3.8.5"
  }
 },
 "nbformat": 4,
 "nbformat_minor": 4
}
