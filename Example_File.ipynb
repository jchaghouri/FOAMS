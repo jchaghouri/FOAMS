{
 "cells": [
  {
   "cell_type": "code",
   "execution_count": 1,
   "metadata": {
    "ExecuteTime": {
     "end_time": "2022-04-07T23:08:23.542377Z",
     "start_time": "2022-04-07T23:08:21.976956Z"
    }
   },
   "outputs": [],
   "source": [
    "import numpy as np\n",
    "from matplotlib import pyplot as plt\n",
    "import make_metal_fits as mmf"
   ]
  },
  {
   "cell_type": "code",
   "execution_count": 2,
   "metadata": {
    "ExecuteTime": {
     "end_time": "2022-04-07T23:08:24.078646Z",
     "start_time": "2022-04-07T23:08:23.597039Z"
    }
   },
   "outputs": [
    {
     "name": "stdout",
     "output_type": "stream",
     "text": [
      "11\n",
      "11\n",
      "11\n",
      "done\n"
     ]
    }
   ],
   "source": [
    "#First we define which elements we are going to use \n",
    "\n",
    "#These are the ones I chose for this case but you can use any elements you want\n",
    "\n",
    "elements_to_use = np.array([8,10,12,14,16,18,20,24,25,26,28])    \n",
    "\n",
    "\n",
    "#Next we have to load the abundances for our model in this case, I will use the model for the solar data\n",
    "\n",
    "measured_abundances= np.array([-2.20193105, -2.78113511, -3.21033912, -3.15755259, -3.47007123, -4.0345397,\n",
    " -4.22310703, -4.77006481, -4.8961619,  -2.9290349 , -4.14739664])\n",
    "measured_error= np.array([0.07, 0.1 , 0.06, 0.01 ,0.02, 0.1,  0.02, 0.02, 0.01 ,0.08, 0.04])\n",
    "\n",
    "print(elements_to_use.size)\n",
    "print(measured_abundances.size)\n",
    "print(measured_error.size)\n",
    "\n",
    "CC_models_to_use = np.array(['W18_SN_wind_total_yield_elements','N20_SN_wind_total_yield_elements','kobayashi_02_total_yield_elements', 'heger_2010'])\n",
    "Ia_models_to_use = np.array(['iwamoto_total_yield_elements', 'wdd2_total_yield_elements', 'w7_total_yield_elements'])\n",
    "AGB_models_to_use = np.array(['karakas_a2_0200_total_yield_elements','karakas_a3_0080_total_yield_elements','karakas_a4_0040_total_yield_elements','karakas_a5_0001_total_yield_elements','no_agb'])  # the last one is for no AGB\n",
    "\n",
    "\n",
    "\n",
    "solar_normalization,solar_Ia_ratio,solar_Ia_CC_ratio,solar_normalization_error,solar_Ia_error,solar_Ia_CC_ratio_error = mmf.make_metal_fits(elements_to_use, measured_abundances,measured_error,CC_models_to_use, Ia_models_to_use, AGB_models_to_use)\n",
    "\n"
   ]
  },
  {
   "cell_type": "code",
   "execution_count": 3,
   "metadata": {
    "ExecuteTime": {
     "end_time": "2022-04-07T23:08:24.650209Z",
     "start_time": "2022-04-07T23:08:24.084209Z"
    }
   },
   "outputs": [
    {
     "data": {
      "image/png": "[encoded data removed]",
      "text/plain": [
       "<Figure size 432x288 with 1 Axes>"
      ]
     },
     "metadata": {
      "needs_background": "light"
     },
     "output_type": "display_data"
    }
   ],
   "source": [
    "NPM=12 #number plot models\n",
    "\n",
    "\n",
    "# The first index is the CC model, second is AGB, third is Ia\n",
    "\n",
    "plt.plot(np.reshape(solar_Ia_CC_ratio[:,0,:],(NPM)),'ro') #this is plotting the models using high solar metallicity agb\n",
    "\n",
    "plt.plot(np.reshape(solar_Ia_CC_ratio[:,3,:],(NPM)),'mo') # this is plotting without using an agb star\n",
    "\n",
    "plt.xticks([0, 1, 2,3,4,5,6,7,8,9,10,11], ['W18 Iwamoto', 'W18 WDD2', 'W18 W7','N20 Iwamoto', 'N20 WDD2', 'N20 W7','Kob. Iwamoto', 'Kob. WDD2', 'Kob. W7','Heger Iwamoto', 'Heger WDD2', 'Heger W7'],\n",
    "       rotation=90)\n",
    "\n",
    "plt.ylabel('Solar Ia Ratio')\n",
    "plt.show()\n",
    "#This is plotting the four core collapse models and the three Ia models for two different agb models. \n",
    "\n"
   ]
  },
  {
   "cell_type": "code",
   "execution_count": null,
   "metadata": {},
   "outputs": [],
   "source": []
  }
 ],
 "metadata": {
  "kernelspec": {
   "display_name": "Python 3",
   "language": "python",
   "name": "python3"
  },
  "language_info": {
   "codemirror_mode": {
    "name": "ipython",
    "version": 3
   },
   "file_extension": ".py",
   "mimetype": "text/x-python",
   "name": "python",
   "nbconvert_exporter": "python",
   "pygments_lexer": "ipython3",
   "version": "3.8.5"
  },
  "latex_envs": {
   "LaTeX_envs_menu_present": true,
   "autoclose": false,
   "autocomplete": true,
   "bibliofile": "biblio.bib",
   "cite_by": "apalike",
   "current_citInitial": 1,
   "eqLabelWithNumbers": true,
   "eqNumInitial": 1,
   "hotkeys": {
    "equation": "Ctrl-E",
    "itemize": "Ctrl-I"
   },
   "labels_anchors": false,
   "latex_user_defs": false,
   "report_style_numbering": false,
   "user_envs_cfg": false
  },
  "nbTranslate": {
   "displayLangs": [
    "fr",
    "en"
   ],
   "hotkey": "alt-t",
   "langInMainMenu": true,
   "sourceLang": "en",
   "targetLang": "fr",
   "useGoogleTranslate": true
  }
 },
 "nbformat": 4,
 "nbformat_minor": 4
}
