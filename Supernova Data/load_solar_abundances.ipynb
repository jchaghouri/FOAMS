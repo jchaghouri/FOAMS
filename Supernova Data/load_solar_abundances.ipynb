{
 "cells": [
  {
   "cell_type": "code",
   "execution_count": 11,
   "metadata": {},
   "outputs": [],
   "source": [
    "import numpy as np\n",
    "from matplotlib import pyplot as plt\n"
   ]
  },
  {
   "cell_type": "code",
   "execution_count": 12,
   "metadata": {},
   "outputs": [],
   "source": [
    "def load_solar_abundances():\n",
    "    solar_elements_log = np.zeros(120)-20.\n",
    "    solar_elements_log_error = np.zeros(120)\n",
    "\n",
    "    # Asplund 2009 solar abundances\n",
    "    #solar_data = np.loadtxt(\"solar_abundances_asplund_2009.txt\",usecols=(0,2,3,4,5,6,8,9,10,11))\n",
    "    #\n",
    "    #solar_elements_log[np.int_(solar_data[:,0])] = np.where(solar_data[:,1] == -19,solar_data[:,3],solar_data[:,1])\n",
    "    #solar_elements_log_error[np.int_(solar_data[:,0])] = np.where(solar_data[:,1] == -19,solar_data[:,4],solar_data[:,2])\n",
    "    #\n",
    "    #solar_elements_log[np.int_(solar_data[:,5])] = np.where(solar_data[:,6] == -19,solar_data[:,8],solar_data[:,6])\n",
    "    #solar_elements_log_error[np.int_(solar_data[:,5])] = np.where(solar_data[:,6] == -19,solar_data[:,9],solar_data[:,7])\n",
    "\n",
    "    \n",
    "    # Lodders 2009 solar data:    (Lodders, K., Palme, H., Gail, H.-P., 2009, Landolt-Börnstein, New Series, Astronomy and Astrophysics, Springer Verlag, Berlin, 2009)\n",
    "    solar_data = np.loadtxt(\"solar_abundances_lodders_2009.txt\",skiprows=2,usecols=(0,5,6))\n",
    "\n",
    "    solar_elements_log[np.int_(solar_data[:,0])] = solar_data[:,1]\n",
    "    solar_elements_log_error[np.int_(solar_data[:,0])] = solar_data[:,2]\n",
    "\n",
    "    atomic_data = np.loadtxt(\"atomic_masses.txt\",usecols=(0,3))\n",
    "\n",
    "    atomic_mass = np.zeros(120)\n",
    "    atomic_mass[np.int_(atomic_data[:,0])] = atomic_data[:,1]\n",
    "\n",
    "\n",
    "    solar_elements = 10.**solar_elements_log\n",
    "    total_mass_solar = (np.sum(solar_elements*atomic_mass))\n",
    "\n",
    "    solar_elements_normalized_log = solar_elements_log - np.log10(total_mass_solar)\n",
    "\n",
    "    \n",
    "    return solar_elements_normalized_log,solar_elements_log_error\n",
    "    "
   ]
  },
  {
   "cell_type": "code",
   "execution_count": 29,
   "metadata": {},
   "outputs": [
    {
     "name": "stdout",
     "output_type": "stream",
     "text": [
      "[-32.13603475  -0.13603475  -1.20603475  -8.85603475 -10.81603475\n",
      "  -9.32603475  -3.74603475  -4.27603475  -3.40603475  -7.69603475\n",
      "  -4.08603475  -5.84603475  -4.59603475  -5.67603475  -4.60603475\n",
      "  -6.68603475  -4.97603475  -6.88603475  -5.63603475  -7.02603475\n",
      "  -5.82603475  -9.06603475  -7.20603475  -8.14603475  -6.48603475\n",
      "  -6.63603475  -4.67603475  -7.23603475  -5.91603475  -7.86603475\n",
      "  -7.48603475  -9.03603475  -8.54603475  -9.81603475  -8.77603475\n",
      "  -9.57603475  -8.85603475  -9.75603475  -9.23603475  -9.93603475\n",
      "  -9.56603475 -10.71603475 -10.19603475 -32.13603475 -10.35603475\n",
      " -11.03603475 -10.46603475 -10.91603475 -10.40603475 -11.35603475\n",
      " -10.04603475 -11.10603475  -9.93603475 -10.56603475  -9.86603475\n",
      " -11.03603475  -9.95603475 -10.94603475 -10.53603475 -11.36603475\n",
      " -10.66603475 -32.13603475 -11.17603475 -11.60603475 -11.04603475\n",
      " -11.79603475 -10.99603475 -11.64603475 -11.18603475 -11.99603475\n",
      " -11.19603475 -12.02603475 -11.40603475 -12.27603475 -11.46603475\n",
      " -11.85603475 -10.76603475 -10.77603475 -10.49603475 -11.31603475\n",
      " -10.94603475 -11.34603475 -10.07603475 -11.46603475 -32.13603475\n",
      " -32.13603475 -32.13603475 -32.13603475 -32.13603475 -32.13603475\n",
      " -12.05603475 -32.13603475 -12.65603475 -32.13603475 -32.13603475\n",
      " -32.13603475 -32.13603475 -32.13603475 -32.13603475 -32.13603475\n",
      " -32.13603475 -32.13603475 -32.13603475 -32.13603475 -32.13603475\n",
      " -32.13603475 -32.13603475 -32.13603475 -32.13603475 -32.13603475\n",
      " -32.13603475 -32.13603475 -32.13603475 -32.13603475 -32.13603475\n",
      " -32.13603475 -32.13603475 -32.13603475 -32.13603475 -32.13603475]\n"
     ]
    },
    {
     "data": {
      "image/png": "[encoded data removed]",
      "text/plain": [
       "<Figure size 432x288 with 1 Axes>"
      ]
     },
     "metadata": {},
     "output_type": "display_data"
    }
   ],
   "source": [
    "# Run this commad to load the solar data:\n",
    "\n",
    "solar_elements_log,solar_elements_log_error = load_solar_abundances()\n",
    "\n",
    "\n",
    "\n",
    "print(solar_elements_log)\n",
    "\n",
    "plt.plot(solar_elements_log)\n",
    "plt.xlim(1,30)\n",
    "plt.ylim(-12,0)\n",
    "plt.show()\n",
    "\n"
   ]
  },
  {
   "cell_type": "code",
   "execution_count": null,
   "metadata": {},
   "outputs": [],
   "source": []
  }
 ],
 "metadata": {
  "kernelspec": {
   "display_name": "Python 3",
   "language": "python",
   "name": "python3"
  },
  "language_info": {
   "codemirror_mode": {
    "name": "ipython",
    "version": 3
   },
   "file_extension": ".py",
   "mimetype": "text/x-python",
   "name": "python",
   "nbconvert_exporter": "python",
   "pygments_lexer": "ipython3",
   "version": "3.7.1"
  }
 },
 "nbformat": 4,
 "nbformat_minor": 2
}
